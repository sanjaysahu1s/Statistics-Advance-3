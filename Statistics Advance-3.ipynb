{
 "cells": [
  {
   "cell_type": "markdown",
   "id": "847adbb7-db76-4977-981e-bb4bb638709c",
   "metadata": {},
   "source": [
    "Q1: What is Estimation Statistics? Explain point estimate and interval estimate."
   ]
  },
  {
   "cell_type": "markdown",
   "id": "59d5f993-e223-4593-a8b3-e5625f06a39a",
   "metadata": {},
   "source": [
    "#Answer\n",
    "\n",
    "Estimation statistics is a branch of statistics that deals with the process of estimating unknown population parameters based on sample data. When conducting statistical analyses, we often have access to only a sample of data rather than the entire population. Estimation allows us to make educated guesses or estimates about population parameters using information from the sample.\n",
    "\n",
    "There are two main types of estimates in estimation statistics: point estimates and interval estimates.\n",
    "\n",
    "1. Point Estimate: A point estimate is a single value that is used to estimate an unknown population parameter. It is typically calculated from the sample data and provides an estimate of the true value of the parameter. For example, if we are interested in estimating the mean height of a population, we might calculate the mean height from a sample of individuals and use it as a point estimate of the population mean. Point estimates are useful because they provide a single value that summarizes the information in the sample. However, they do not provide any information about the precision or accuracy of the estimate.\n",
    "\n",
    "2. Interval Estimate: An interval estimate, also known as a confidence interval, provides a range of values within which the true value of the population parameter is likely to fall. It takes into account both the sample data and the variability associated with the estimation process. Confidence intervals are constructed based on the level of confidence desired, typically expressed as a percentage. For example, a 95% confidence interval for the population mean height would provide a range of values within which we can be 95% confident that the true population mean lies. The width of the interval reflects the precision of the estimate, with narrower intervals indicating greater precision. Interval estimates provide more information about the uncertainty associated with the estimate compared to point estimates.\n",
    "\n",
    "In summary, estimation statistics involves the use of point estimates to provide single-value estimates of population parameters and interval estimates to provide ranges of values that likely contain the true parameter value. Point estimates offer simplicity, while interval estimates offer a measure of uncertainty and precision in the estimation process."
   ]
  },
  {
   "cell_type": "markdown",
   "id": "d768ab2e-88b4-43b3-a1dd-6c72edbb4923",
   "metadata": {},
   "source": [
    "                      -------------------------------------------------------------------"
   ]
  },
  {
   "cell_type": "markdown",
   "id": "491180f2-5135-481c-9aa5-c7f7f6e92a5f",
   "metadata": {},
   "source": [
    "Q2. Write a Python function to estimate the population mean using a sample mean and standard\n",
    "deviation."
   ]
  },
  {
   "cell_type": "code",
   "execution_count": 1,
   "id": "83aa704a-fa4b-4e0c-9a2f-a27f0a2527f2",
   "metadata": {},
   "outputs": [
    {
     "name": "stdout",
     "output_type": "stream",
     "text": [
      "Estimated population mean: 10.5\n",
      "Confidence interval: (10.0492, 10.9508)\n"
     ]
    }
   ],
   "source": [
    "#Answer\n",
    "\n",
    "import math\n",
    "\n",
    "def estimate_population_mean(sample_mean, sample_std_dev, sample_size):\n",
    "    # Calculate the standard error\n",
    "    standard_error = sample_std_dev / math.sqrt(sample_size)\n",
    "    \n",
    "    # Calculate the margin of error\n",
    "    margin_of_error = 1.96 * standard_error  # Assuming a 95% confidence level\n",
    "    \n",
    "    # Calculate the lower and upper bounds of the confidence interval\n",
    "    lower_bound = sample_mean - margin_of_error\n",
    "    upper_bound = sample_mean + margin_of_error\n",
    "    \n",
    "    # Return the estimated population mean and the confidence interval\n",
    "    return sample_mean, (lower_bound, upper_bound)\n",
    "\n",
    "\n",
    "\n",
    "sample_mean = 10.5\n",
    "sample_std_dev = 2.3\n",
    "sample_size = 100\n",
    "\n",
    "estimated_mean, confidence_interval = estimate_population_mean(sample_mean, sample_std_dev, sample_size)\n",
    "\n",
    "print(\"Estimated population mean:\", estimated_mean)\n",
    "print(\"Confidence interval:\", confidence_interval)\n"
   ]
  },
  {
   "cell_type": "markdown",
   "id": "61e7fe27-1fe2-442b-9990-ddf2b4958328",
   "metadata": {},
   "source": [
    "                      -------------------------------------------------------------------"
   ]
  },
  {
   "cell_type": "markdown",
   "id": "ee58e8fc-6392-4da0-a0c9-2443f93e661c",
   "metadata": {},
   "source": [
    "Q3: What is Hypothesis testing? Why is it used? State the importance of Hypothesis testing."
   ]
  },
  {
   "cell_type": "markdown",
   "id": "dc9ee4ac-804f-490e-bb4f-806cfc73e697",
   "metadata": {},
   "source": [
    "#Answer\n",
    "\n",
    "Hypothesis testing is a statistical method used to make inferences and draw conclusions about population parameters based on sample data. It involves formulating two competing hypotheses, the null hypothesis (H0) and the alternative hypothesis (H1 or Ha), and using sample data to evaluate the evidence in favor of one hypothesis over the other.\n",
    "\n",
    "The null hypothesis (H0) represents the default or conventional belief, often stating that there is no significant difference or relationship between variables in the population. The alternative hypothesis (H1 or Ha) represents the researcher's claim or the possibility of an effect, difference, or relationship existing in the population.\n",
    "\n",
    "Hypothesis testing is used to:\n",
    "\n",
    "1. Make Decisions: Hypothesis testing provides a systematic framework for making decisions based on evidence from the sample data. It helps determine whether to accept the null hypothesis or reject it in favor of the alternative hypothesis.\n",
    "\n",
    "2. Test Research Questions: Hypothesis testing is fundamental in scientific research as it allows researchers to test their theories or research questions objectively. By formulating hypotheses and conducting statistical tests, researchers can draw conclusions and support their claims based on empirical evidence.\n",
    "\n",
    "3. Assess Statistical Significance: Hypothesis testing provides a way to assess the statistical significance of results. It helps determine if the observed differences or relationships between variables are statistically significant or if they could have occurred by chance alone.\n",
    "\n",
    "4. Control Type I and Type II Errors: Hypothesis testing allows researchers to control and minimize errors in decision-making. Type I error occurs when the null hypothesis is incorrectly rejected, while Type II error occurs when the null hypothesis is incorrectly accepted. Hypothesis testing helps set a threshold, known as the significance level (often denoted as α), to control these errors.\n",
    "\n",
    "5. Provide Objective Evidence: Hypothesis testing provides an objective and systematic approach to drawing conclusions based on data. It helps ensure that decisions and claims are supported by statistical evidence rather than relying solely on intuition or subjective judgment.\n",
    "\n",
    "In summary, hypothesis testing is a crucial statistical technique that helps researchers make decisions, test research questions, assess significance, control errors, and provide objective evidence for their claims. It plays a vital role in the scientific method by allowing researchers to draw conclusions based on empirical data and determine the statistical validity of their findings."
   ]
  },
  {
   "cell_type": "markdown",
   "id": "ab68aa9b-06e7-48ba-9454-ab662e3c7fc2",
   "metadata": {},
   "source": [
    "                      -------------------------------------------------------------------"
   ]
  },
  {
   "cell_type": "markdown",
   "id": "603d8454-0f91-4c58-9047-9330eaa2c9b0",
   "metadata": {},
   "source": [
    "Q4. Create a hypothesis that states whether the average weight of male college students is greater than\n",
    "the average weight of female college students."
   ]
  },
  {
   "cell_type": "markdown",
   "id": "0309cb58-1057-46be-a4cd-e39c0864945d",
   "metadata": {},
   "source": [
    "#Answer\n",
    "\n",
    "Null Hypothesis (H0): The average weight of male college students is equal to or less than the average weight of female college students.\n",
    "\n",
    "Alternative Hypothesis (H1 or Ha): The average weight of male college students is greater than the average weight of female college students.\n",
    "\n",
    "Symbolically, this can be represented as:\n",
    "\n",
    "H0: μmale ≤ μfemale\n",
    "\n",
    "H1: μmale > μfemale\n",
    "\n",
    "In this hypothesis, we are comparing the population means of the weights for male and female college students. The null hypothesis assumes that there is no significant difference or that the average weight of male students is equal to or less than the average weight of female students. The alternative hypothesis suggests that there is a difference, with the average weight of male students being greater than the average weight of female students. \n",
    "\n",
    "To test this hypothesis, you would collect a sample of weights from both male and female college students, calculate the sample means for each group, and then perform a statistical test, such as a t-test or z-test, to determine if there is sufficient evidence to reject the null hypothesis in favor of the alternative hypothesis."
   ]
  },
  {
   "cell_type": "markdown",
   "id": "cefbaf43-6ff9-49ad-b189-2a56c6f188e8",
   "metadata": {},
   "source": [
    "                      -------------------------------------------------------------------"
   ]
  },
  {
   "cell_type": "markdown",
   "id": "d83dbde1-120b-428e-9820-73b17987c381",
   "metadata": {},
   "source": [
    "Q5. Write a Python script to conduct a hypothesis test on the difference between two population means,\n",
    "given a sample from each population."
   ]
  },
  {
   "cell_type": "code",
   "execution_count": 6,
   "id": "c67726a7-8ae8-46db-b04c-93fda859241d",
   "metadata": {},
   "outputs": [
    {
     "name": "stdout",
     "output_type": "stream",
     "text": [
      "Fail to reject the null hypothesis\n",
      "Test statistic: 1.3977686594832237\n",
      "P-value: 0.19972401836075068\n"
     ]
    }
   ],
   "source": [
    "import scipy.stats as stats\n",
    "\n",
    "def conduct_hypothesis_test(sample1, sample2, alpha):\n",
    "    # Perform an independent two-sample t-test\n",
    "    t_stat, p_value = stats.ttest_ind(sample1, sample2)\n",
    "    \n",
    "    # Compare p-value with the significance level\n",
    "    if p_value < alpha:\n",
    "        print(\"Reject the null hypothesis\")\n",
    "    else:\n",
    "        print(\"Fail to reject the null hypothesis\")\n",
    "    \n",
    "    # Print the test statistic and p-value\n",
    "    print(\"Test statistic:\", t_stat)\n",
    "    print(\"P-value:\", p_value)\n",
    "    \n",
    "    \n",
    "sample1 = [23, 25, 27, 28, 30]\n",
    "sample2 = [20, 22, 24, 26, 28]\n",
    "alpha = 0.05\n",
    "\n",
    "conduct_hypothesis_test(sample1, sample2, alpha)\n",
    "    \n"
   ]
  },
  {
   "cell_type": "markdown",
   "id": "4bd56842-96dd-463e-9a53-abe5f7acc2c6",
   "metadata": {},
   "source": [
    "                       -------------------------------------------------------------------"
   ]
  },
  {
   "cell_type": "markdown",
   "id": "e5cfcd8a-e250-42a7-8424-c3a5f8fe7a69",
   "metadata": {},
   "source": [
    "Q6: What is a null and alternative hypothesis? Give some examples."
   ]
  },
  {
   "cell_type": "markdown",
   "id": "a66e7ddd-41ad-41a1-964e-52a66e240dc6",
   "metadata": {},
   "source": [
    "#Answer\n",
    "\n",
    "In hypothesis testing, the null hypothesis (H0) and the alternative hypothesis (H1 or Ha) are two competing statements that are formulated to represent different possibilities or claims about a population parameter or the relationship between variables. These hypotheses help guide the statistical analysis and determine whether there is evidence to support the alternative hypothesis or if the null hypothesis should be retained.\n",
    "\n",
    "The null hypothesis (H0) represents the default or conventional belief, often stating that there is no significant difference, effect, or relationship in the population. It assumes that any observed differences or relationships in the sample data are due to random chance or sampling variability. The null hypothesis is usually denoted as an equality statement.\n",
    "\n",
    "Examples of null hypotheses:\n",
    "\n",
    "1. The average test score of students who attend tutoring sessions is equal to or less than the average test score of students who do not attend tutoring sessions.\n",
    "\n",
    "2. There is no difference in the proportion of males and females who prefer a specific brand of soda.\n",
    "\n",
    "3. The mean reaction time of participants in a control group is the same as the mean reaction time of participants in an experimental group.\n",
    "\n",
    "On the other hand, the alternative hypothesis (H1 or Ha) represents a different claim or possibility from the null hypothesis. It suggests that there is a significant difference, effect, or relationship in the population. The alternative hypothesis can be directional, indicating a specific direction of difference or effect, or non-directional, simply stating that there is a difference or effect without specifying the direction.\n",
    "\n",
    "Examples of alternative hypotheses:\n",
    "\n",
    "1. The average test score of students who attend tutoring sessions is greater than the average test score of students who do not attend tutoring sessions.\n",
    "\n",
    "2. There is a difference in the proportion of males and females who prefer a specific brand of soda.\n",
    "\n",
    "3. The mean reaction time of participants in an experimental group is less than the mean reaction time of participants in a control group.\n",
    "\n",
    "In hypothesis testing, the goal is to gather evidence from the sample data to support one hypothesis over the other. The statistical analysis involves calculating test statistics, p-values, and confidence intervals to make an informed decision about whether to reject the null hypothesis in favor of the alternative hypothesis or fail to reject the null hypothesis."
   ]
  },
  {
   "cell_type": "markdown",
   "id": "c195c9bd-aba6-49ad-a195-6b541eb54fb2",
   "metadata": {},
   "source": [
    "                        -------------------------------------------------------------------"
   ]
  },
  {
   "cell_type": "markdown",
   "id": "396f5010-8426-42d8-88ce-318675d1395c",
   "metadata": {},
   "source": [
    "Q7: Write down the steps involved in hypothesis testing."
   ]
  },
  {
   "cell_type": "markdown",
   "id": "584de808-80c7-42fb-bfa2-7a9253dbdb75",
   "metadata": {},
   "source": [
    "#Answer\n",
    "\n",
    "Hypothesis testing involves a systematic series of steps to evaluate evidence from sample data and make a decision about the null and alternative hypotheses. The general steps involved in hypothesis testing are as follows:\n",
    "\n",
    "1. State the Null and Alternative Hypotheses: Clearly define the null hypothesis (H0) and the alternative hypothesis (H1 or Ha). These hypotheses should be mutually exclusive and collectively exhaustive, representing different possibilities about the population parameter or relationship between variables.\n",
    "\n",
    "2. Set the Significance Level: Determine the desired level of significance, denoted as alpha (α). It represents the probability of making a Type I error, which is rejecting the null hypothesis when it is actually true. Commonly used significance levels are 0.05 (5%) or 0.01 (1%), but it can vary based on the context and the importance of the decision.\n",
    "\n",
    "3. Select the Test Statistic: Choose an appropriate test statistic based on the type of data, the nature of the research question, and any assumptions made. Common test statistics include t-test, z-test, chi-square test, ANOVA, etc.\n",
    "\n",
    "4. Determine the Distribution: Based on the test statistic selected, determine the appropriate probability distribution to use for hypothesis testing. Common distributions used are the t-distribution, standard normal distribution, or specific distributions for non-parametric tests.\n",
    "\n",
    "5. Collect and Analyze Sample Data: Collect data from a representative sample and perform the necessary calculations using the chosen test statistic. Calculate the test statistic value and, if applicable, the p-value associated with it.\n",
    "\n",
    "6. Establish the Decision Rule: Determine the critical region or rejection region based on the significance level (α). The critical region is the range of values that, if the test statistic falls into, leads to rejecting the null hypothesis. The decision rule can be one-tailed (one-sided) or two-tailed (two-sided), depending on the alternative hypothesis.\n",
    "\n",
    "7. Make a Decision: Compare the calculated test statistic or p-value with the critical region or the significance level. If the test statistic falls into the critical region or the p-value is less than α, reject the null hypothesis and accept the alternative hypothesis. Otherwise, fail to reject the null hypothesis.\n",
    "\n",
    "8. Draw Conclusions: Based on the decision made, draw conclusions about the population parameter or the relationship between variables. Communicate the results, including the decision, the evidence, and any limitations or assumptions made during the hypothesis testing process.\n",
    "\n",
    "It's important to note that hypothesis testing is not a definitive proof of the alternative hypothesis. It provides evidence that supports or refutes the null hypothesis based on the available sample data. The conclusions drawn are based on the balance of evidence and the statistical inference process."
   ]
  },
  {
   "cell_type": "markdown",
   "id": "80a3b616-2f74-4a73-88b6-1f04edafdd88",
   "metadata": {},
   "source": [
    "                        -------------------------------------------------------------------"
   ]
  },
  {
   "cell_type": "markdown",
   "id": "0c06e381-01a3-4462-922f-7719d66e0324",
   "metadata": {},
   "source": [
    "Q8. Define p-value and explain its significance in hypothesis testing."
   ]
  },
  {
   "cell_type": "markdown",
   "id": "e967d626-570a-4795-a902-e2bec680d6e7",
   "metadata": {},
   "source": [
    "#Answer\n",
    "\n",
    "In hypothesis testing, the p-value is a measure of the strength of evidence against the null hypothesis (H0). It quantifies the probability of obtaining the observed sample data, or more extreme data, if the null hypothesis were true. In other words, the p-value represents the likelihood of observing the data or more extreme data under the assumption that the null hypothesis is correct.\n",
    "\n",
    "The significance of the p-value in hypothesis testing can be summarized as follows:\n",
    "\n",
    "1. Decision Rule: The p-value helps in making a decision about the null hypothesis. If the p-value is less than or equal to the significance level (α), typically chosen as 0.05 or 0.01, it provides evidence to reject the null hypothesis in favor of the alternative hypothesis. On the other hand, if the p-value is greater than α, it suggests that the data is not significantly different from what would be expected under the null hypothesis, and we fail to reject the null hypothesis.\n",
    "\n",
    "2. Strength of Evidence: The p-value gives an indication of the strength of the evidence against the null hypothesis. A smaller p-value indicates stronger evidence against the null hypothesis. For example, a p-value of 0.01 is considered stronger evidence against the null hypothesis than a p-value of 0.05. However, the p-value alone does not provide information about the magnitude or practical importance of the effect observed.\n",
    "\n",
    "3. Interpretation: The p-value helps in interpreting the results of a hypothesis test. If the p-value is small (below the significance level), it suggests that the observed results are unlikely to occur by chance alone under the null hypothesis. Therefore, it provides support for the alternative hypothesis or the presence of an effect or difference. If the p-value is large, it suggests that the observed results are likely to occur by chance, and there is insufficient evidence to support the alternative hypothesis.\n",
    "\n",
    "4. Comparisons: The p-value allows for comparisons between different hypotheses or different studies. Researchers can compare p-values across studies to evaluate the consistency of findings or compare p-values for different hypotheses to determine which one provides stronger evidence against the null hypothesis.\n",
    "\n",
    "It's important to note that the p-value does not directly measure the probability that the null hypothesis is true or false, nor does it provide information about the magnitude, practical significance, or the probability of the alternative hypothesis being true. The p-value is just one component of the hypothesis testing process and should be interpreted in conjunction with other factors such as effect size, sample size, study design, and contextual considerations."
   ]
  },
  {
   "cell_type": "markdown",
   "id": "8bf10c1f-245e-40f7-bc2c-e086a92eea91",
   "metadata": {},
   "source": [
    "                        -------------------------------------------------------------------"
   ]
  },
  {
   "cell_type": "markdown",
   "id": "b3b1dcd2-e699-4682-807a-27798a3b686d",
   "metadata": {},
   "source": [
    "Q9. Generate a Student's t-distribution plot using Python's matplotlib library, with the degrees of freedom\n",
    "parameter set to 10."
   ]
  },
  {
   "cell_type": "code",
   "execution_count": 7,
   "id": "71e54adb-5769-4b19-87eb-3f3a4c137f22",
   "metadata": {},
   "outputs": [
    {
     "data": {
      "image/png": "[encoded data removed]",
      "text/plain": [
       "<Figure size 640x480 with 1 Axes>"
      ]
     },
     "metadata": {},
     "output_type": "display_data"
    }
   ],
   "source": [
    "#Answer\n",
    "\n",
    "import numpy as np\n",
    "import matplotlib.pyplot as plt\n",
    "from scipy.stats import t\n",
    "\n",
    "# Define the degrees of freedom\n",
    "df = 10\n",
    "\n",
    "# Generate x values for the t-distribution\n",
    "x = np.linspace(-4, 4, 500)\n",
    "\n",
    "# Calculate the probability density function (PDF) for the t-distribution\n",
    "pdf = t.pdf(x, df)\n",
    "\n",
    "# Create the plot\n",
    "plt.plot(x, pdf, label='t-distribution (df=10)')\n",
    "plt.xlabel('x')\n",
    "plt.ylabel('Probability Density')\n",
    "plt.title('Student\\'s t-Distribution')\n",
    "plt.legend()\n",
    "\n",
    "# Display the plot\n",
    "plt.show()\n"
   ]
  },
  {
   "cell_type": "markdown",
   "id": "1a7f3d9c-e193-4f33-bc16-1497481e05a2",
   "metadata": {},
   "source": [
    "                        -------------------------------------------------------------------"
   ]
  },
  {
   "cell_type": "markdown",
   "id": "3bebcc72-cdc4-4388-b3e3-b6889acc7413",
   "metadata": {},
   "source": [
    "Q10. Write a Python program to calculate the two-sample t-test for independent samples, given two\n",
    "random samples of equal size and a null hypothesis that the population means are equal."
   ]
  },
  {
   "cell_type": "code",
   "execution_count": 8,
   "id": "7cff063b-53f0-4d31-973f-739665d17242",
   "metadata": {},
   "outputs": [
    {
     "name": "stdout",
     "output_type": "stream",
     "text": [
      "Two-sample t-test results:\n",
      "Sample 1 mean: 5.0172861720296815\n",
      "Sample 2 mean: 6.726478532406924\n",
      "Test statistic: -5.980275618358493\n",
      "P-value: 1.0241369621678828e-08\n"
     ]
    }
   ],
   "source": [
    "#Answer\n",
    "\n",
    "import numpy as np\n",
    "from scipy.stats import ttest_ind\n",
    "\n",
    "def two_sample_t_test(sample1, sample2):\n",
    "    # Perform the two-sample t-test\n",
    "    t_stat, p_value = ttest_ind(sample1, sample2)\n",
    "    \n",
    "    # Print the results\n",
    "    print(\"Two-sample t-test results:\")\n",
    "    print(\"Sample 1 mean:\", np.mean(sample1))\n",
    "    print(\"Sample 2 mean:\", np.mean(sample2))\n",
    "    print(\"Test statistic:\", t_stat)\n",
    "    print(\"P-value:\", p_value)\n",
    "\n",
    "# Generate two random samples of equal size\n",
    "sample1 = np.random.normal(loc=5, scale=2, size=100)\n",
    "sample2 = np.random.normal(loc=7, scale=2, size=100)\n",
    "\n",
    "# Perform the two-sample t-test\n",
    "two_sample_t_test(sample1, sample2)\n"
   ]
  },
  {
   "cell_type": "markdown",
   "id": "1e27a355-3583-4a73-87a7-10da1be0807d",
   "metadata": {},
   "source": [
    "                        -------------------------------------------------------------------"
   ]
  },
  {
   "cell_type": "markdown",
   "id": "0f7f10b1-e3ff-46ba-8ab4-d7accc86fb54",
   "metadata": {},
   "source": [
    "Q11: What is Student’s t distribution? When to use the t-Distribution.\n"
   ]
  },
  {
   "cell_type": "markdown",
   "id": "2bc307c1-6f76-4a7e-97e0-ba1e812baaef",
   "metadata": {},
   "source": [
    "#Answer\n",
    "\n",
    "The Student's t-distribution, often referred to as the t-distribution, is a probability distribution that is widely used in statistics. It is a variation of the normal distribution but has heavier tails, which means it allows for more extreme values.\n",
    "\n",
    "The t-distribution is characterized by its degrees of freedom (df), which determine the shape of the distribution. As the degrees of freedom increase, the t-distribution approaches the standard normal distribution (z-distribution).\n",
    "\n",
    "The t-distribution is used in situations where the sample size is small or when the population standard deviation is unknown. It is particularly useful when:\n",
    "\n",
    "1. Population Standard Deviation is Unknown: When the population standard deviation is unknown, the t-distribution can be used to estimate parameters based on sample data. The t-distribution accounts for the additional uncertainty introduced by estimating the population standard deviation from the sample.\n",
    "\n",
    "2. Small Sample Size: When the sample size is small (typically less than 30), the t-distribution is preferred over the normal distribution. The t-distribution takes into account the increased variability and uncertainty associated with smaller samples.\n",
    "\n",
    "3. Inference about the Mean: The t-distribution is commonly used for making inferences about the population mean when the population standard deviation is unknown or when the sample size is small. It allows for the construction of confidence intervals and hypothesis testing related to the population mean.\n",
    "\n",
    "4. Outliers or Non-Normal Data: The t-distribution is more robust to the presence of outliers or non-normality in the data compared to the normal distribution. It provides a better approximation for datasets that deviate from normality.\n",
    "\n",
    "It's important to note that as the sample size increases, the t-distribution approaches the normal distribution. When the sample size is large (typically greater than 30), the t-distribution and the normal distribution yield similar results.\n",
    "\n",
    "In summary, the t-distribution is used when dealing with small sample sizes, unknown population standard deviations, making inferences about the population mean, or when the data deviates from normality. It allows for more accurate estimation and hypothesis testing in such situations."
   ]
  },
  {
   "cell_type": "markdown",
   "id": "9b071d9c-3b0e-44f5-8243-71e4c3cb5d71",
   "metadata": {},
   "source": [
    "                        -------------------------------------------------------------------"
   ]
  },
  {
   "cell_type": "markdown",
   "id": "1d9779c4-1176-46ca-b63f-a7e4018fa705",
   "metadata": {},
   "source": [
    "Q12: What is t-statistic? State the formula for t-statistic.\n"
   ]
  },
  {
   "cell_type": "markdown",
   "id": "b5fac960-e18e-42c4-818c-24b3ea0fa725",
   "metadata": {},
   "source": [
    "#Answer\n",
    "\n",
    "The t-statistic, also known as the t-value or t-score, is a statistic that measures the difference between the sample mean and the hypothesized population mean in terms of the standard error. It is used in hypothesis testing to assess the evidence against the null hypothesis and determine if the observed difference is statistically significant.\n",
    "\n",
    "The formula for the t-statistic depends on the specific scenario and the type of t-test being conducted. Here are the formulas for two commonly used scenarios:\n",
    "\n",
    "1. One-Sample t-test:\n",
    "The one-sample t-test compares the sample mean to a known population mean. The formula for the t-statistic in a one-sample t-test is:\n",
    "\n",
    "t = (x - μ) / (s / √n)\n",
    "\n",
    "where:\n",
    "- t is the t-statistic\n",
    "- x is the sample mean\n",
    "- μ is the hypothesized population mean\n",
    "- s is the sample standard deviation\n",
    "- n is the sample size\n",
    "\n",
    "2. Independent Two-Sample t-test:\n",
    "The independent two-sample t-test compares the means of two independent samples. The formula for the t-statistic in an independent two-sample t-test is:\n",
    "\n",
    "t = (x1 - x2) / √[(s1^2 / n1) + (s2^2 / n2)]\n",
    "\n",
    "where:\n",
    "- t is the t-statistic\n",
    "- x1 and x2 are the means of the two samples\n",
    "- s1 and s2 are the standard deviations of the two samples\n",
    "- n1 and n2 are the sizes of the two samples\n",
    "\n",
    "In both cases, the t-statistic represents the standardized difference between the sample means. It measures the magnitude of the difference relative to the variability within the samples. A larger absolute t-value indicates a greater difference between the sample means.\n",
    "\n",
    "The t-statistic is then compared to the critical values from the t-distribution or used to calculate the p-value to determine if the observed difference is statistically significant or if it could have occurred by chance alone under the null hypothesis."
   ]
  },
  {
   "cell_type": "markdown",
   "id": "21e4a798-46dd-449c-ad27-8e135697f0f6",
   "metadata": {},
   "source": [
    "                        -------------------------------------------------------------------"
   ]
  },
  {
   "cell_type": "markdown",
   "id": "3781835e-7a69-4797-968f-c0bf734977a5",
   "metadata": {},
   "source": [
    "Q13. A coffee shop owner wants to estimate the average daily revenue for their shop. \n",
    "They take a random\n",
    "sample of 50 days and find the sample mean revenue to be \n",
    " $ 500 with a standard deviation of $ 50.\n",
    "\n",
    "Estimate the population mean revenue with a 95% confidence interval.\n"
   ]
  },
  {
   "cell_type": "markdown",
   "id": "6245ce16-ee1d-4468-9147-afb903d1fca5",
   "metadata": {},
   "source": [
    "#Answer\n",
    "\n",
    "To estimate the population mean revenue with a 95% confidence interval, we can use the sample mean and standard deviation along with the appropriate critical value from the t-distribution. Here's how you can calculate it:\n",
    "\n",
    "Given:\n",
    "Sample size (n) = 50\n",
    "Sample mean (x̄) = $500\n",
    "Sample standard deviation (s) = $50\n",
    "\n",
    "Since the sample size is relatively small (less than 30), we'll use the t-distribution instead of the z-distribution.\n",
    "\n",
    "1. Find the critical value:\n",
    "To determine the critical value, we need to consider the desired confidence level. For a 95% confidence interval, the significance level (α) is 0.05. Since we're working with a two-tailed test, we divide α by 2 to get 0.025. \n",
    "\n",
    "With 50 degrees of freedom (n - 1 = 50 - 1 = 49), we can find the critical value by referring to the t-distribution table or using a statistical calculator. For a 95% confidence level and 49 degrees of freedom, the critical value is approximately 2.009.\n",
    "\n",
    "2. Calculate the standard error:\n",
    "The standard error (SE) represents the standard deviation of the sampling distribution of the sample mean. It is calculated by dividing the sample standard deviation by the square root of the sample size (n):\n",
    "\n",
    "SE = s / √n = $50 / √50 ≈ $7.07\n",
    "\n",
    "3. Calculate the margin of error:\n",
    "The margin of error (ME) is calculated by multiplying the critical value by the standard error:\n",
    "\n",
    "ME = critical value * SE = 2.009 * $7.07 ≈ $14.19\n",
    "\n",
    "4. Calculate the confidence interval:\n",
    "The confidence interval (CI) is calculated by subtracting and adding the margin of error to the sample mean:\n",
    "\n",
    "CI = (x̄ - ME, x̄ + ME) = ($500 - $14.19, $500 + $14.19) = ($485.81, $514.19)\n",
    "\n",
    "The estimated population mean revenue with a 95% confidence interval is approximately $485.81 to $514.19.\n",
    "\n",
    "Therefore, we can say with 95% confidence that the true average daily revenue for the coffee shop falls within this range based on the given sample."
   ]
  },
  {
   "cell_type": "markdown",
   "id": "6305efa8-3a2b-42ad-8008-41e7f9f4cf42",
   "metadata": {},
   "source": [
    "                        -------------------------------------------------------------------"
   ]
  },
  {
   "cell_type": "markdown",
   "id": "0c06f496-0f7f-4383-bdf5-98fe8c25c0e3",
   "metadata": {},
   "source": [
    "Q14. A researcher hypothesizes that a new drug will decrease blood pressure by 10 mmHg. They conduct a\n",
    "clinical trial with 100 patients and find that the sample mean decrease in blood pressure is 8 mmHg with a\n",
    "standard deviation of 3 mmHg. Test the hypothesis with a significance level of 0.05.\n"
   ]
  },
  {
   "cell_type": "markdown",
   "id": "0ecd2d30-8fc3-4660-a266-a336784fe4a0",
   "metadata": {},
   "source": [
    "#Answer\n",
    "\n",
    "To test the hypothesis that the new drug decreases blood pressure by 10 mmHg, we can perform a one-sample t-test. Here's how you can conduct the hypothesis test with a significance level of 0.05:\n",
    "\n",
    "Given:\n",
    "Sample size (n) = 100\n",
    "Sample mean decrease in blood pressure (x̄) = 8 mmHg\n",
    "Sample standard deviation (s) = 3 mmHg\n",
    "Hypothesized decrease in blood pressure (μ0) = 10 mmHg\n",
    "Significance level (α) = 0.05\n",
    "\n",
    "1. Set up the null and alternative hypotheses:\n",
    "Null hypothesis (H0): The new drug does not decrease blood pressure by 10 mmHg.\n",
    "Alternative hypothesis (H1 or Ha): The new drug decreases blood pressure by 10 mmHg.\n",
    "\n",
    "H0: μ = μ0 (No change or decrease of 10 mmHg)\n",
    "Ha: μ < μ0 (Decrease of less than 10 mmHg)\n",
    "\n",
    "2. Calculate the t-statistic:\n",
    "The t-statistic for a one-sample t-test is calculated using the formula:\n",
    "\n",
    "t = (x̄ - μ0) / (s / √n)\n",
    "\n",
    "Substituting the given values:\n",
    "t = (8 - 10) / (3 / √100) ≈ -2.82\n",
    "\n",
    "3. Determine the critical value:\n",
    "Since we're conducting a one-tailed test (alternative hypothesis is directional), we need to find the critical value corresponding to the significance level (α) and degrees of freedom (df = n - 1 = 100 - 1 = 99). Looking up the critical value from the t-distribution table or using a statistical calculator, for a significance level of 0.05 and 99 degrees of freedom, the critical value is approximately -1.660.\n",
    "\n",
    "4. Compare the t-statistic with the critical value and make a decision:\n",
    "If the t-statistic falls in the rejection region (t < critical value), we reject the null hypothesis. Otherwise, we fail to reject the null hypothesis.\n",
    "\n",
    "In this case, since t = -2.82 < -1.660, the t-statistic falls in the rejection region.\n",
    "\n",
    "5. Calculate the p-value:\n",
    "Alternatively, you can calculate the p-value associated with the t-statistic to assess the strength of evidence against the null hypothesis. The p-value is the probability of observing a t-statistic as extreme as the one obtained, assuming the null hypothesis is true.\n",
    "\n",
    "Using a statistical calculator or software, the p-value corresponding to t = -2.82 and 99 degrees of freedom is approximately 0.003.\n",
    "\n",
    "6. Make a conclusion:\n",
    "Since the t-statistic falls in the rejection region and the p-value (0.003) is less than the significance level (0.05), we reject the null hypothesis. The evidence suggests that the new drug does decrease blood pressure by less than 10 mmHg.\n",
    "\n",
    "Therefore, based on the results of the clinical trial, there is statistical evidence to support the researcher's hypothesis that the new drug decreases blood pressure by less than 10 mmHg."
   ]
  },
  {
   "cell_type": "markdown",
   "id": "29638fdc-6769-4e9f-ba0f-4d48ace93574",
   "metadata": {},
   "source": [
    "                        -------------------------------------------------------------------"
   ]
  },
  {
   "cell_type": "markdown",
   "id": "14a6c795-fbd4-495d-a2e6-3d86510cbd92",
   "metadata": {},
   "source": [
    "Q15. An electronics company produces a certain type of product with a mean weight of 5 pounds and a\n",
    "standard deviation of 0.5 pounds. A random sample of 25 products is taken, and the sample mean weight\n",
    "is found to be 4.8 pounds. Test the hypothesis that the true mean weight of the products is less than 5\n",
    "pounds with a significance level of 0.01."
   ]
  },
  {
   "cell_type": "markdown",
   "id": "ab82da9a-f540-450e-8d65-273cb1c1ec9b",
   "metadata": {},
   "source": [
    "#Answer\n",
    "\n",
    "To test the hypothesis that the true mean weight of the products is less than 5 pounds, we can perform a one-sample t-test. Here's how you can conduct the hypothesis test with a significance level of 0.01:\n",
    "\n",
    "Given:\n",
    "Sample size (n) = 25\n",
    "Sample mean weight (x̄) = 4.8 pounds\n",
    "Population standard deviation (σ) = 0.5 pounds (known)\n",
    "Hypothesized mean weight (μ0) = 5 pounds\n",
    "Significance level (α) = 0.01\n",
    "\n",
    "1. Set up the null and alternative hypotheses:\n",
    "Null hypothesis (H0): The true mean weight of the products is equal to or greater than 5 pounds.\n",
    "Alternative hypothesis (H1 or Ha): The true mean weight of the products is less than 5 pounds.\n",
    "\n",
    "H0: μ ≥ μ0 (Mean weight is equal to or greater than 5 pounds)\n",
    "Ha: μ < μ0 (Mean weight is less than 5 pounds)\n",
    "\n",
    "2. Calculate the t-statistic:\n",
    "The t-statistic for a one-sample t-test is calculated using the formula:\n",
    "\n",
    "t = (x̄ - μ0) / (σ / √n)\n",
    "\n",
    "Substituting the given values:\n",
    "t = (4.8 - 5) / (0.5 / √25) = -2.0\n",
    "\n",
    "3. Determine the critical value:\n",
    "Since we're conducting a one-tailed test (alternative hypothesis is directional), we need to find the critical value corresponding to the significance level (α) and degrees of freedom (df = n - 1 = 25 - 1 = 24). Looking up the critical value from the t-distribution table or using a statistical calculator, for a significance level of 0.01 and 24 degrees of freedom, the critical value is approximately -2.492.\n",
    "\n",
    "4. Compare the t-statistic with the critical value and make a decision:\n",
    "If the t-statistic falls in the rejection region (t < critical value), we reject the null hypothesis. Otherwise, we fail to reject the null hypothesis.\n",
    "\n",
    "In this case, since t = -2.0 > -2.492, the t-statistic does not fall in the rejection region.\n",
    "\n",
    "5. Calculate the p-value:\n",
    "Alternatively, you can calculate the p-value associated with the t-statistic to assess the strength of evidence against the null hypothesis. The p-value is the probability of observing a t-statistic as extreme as the one obtained, assuming the null hypothesis is true.\n",
    "\n",
    "Using a statistical calculator or software, the p-value corresponding to t = -2.0 and 24 degrees of freedom is approximately 0.0307.\n",
    "\n",
    "6. Make a conclusion:\n",
    "Since the t-statistic does not fall in the rejection region and the p-value (0.0307) is greater than the significance level (0.01), we fail to reject the null hypothesis. There is not enough evidence to conclude that the true mean weight of the products is less than 5 pounds.\n",
    "\n",
    "Therefore, based on the given sample data, we do not have sufficient statistical evidence to support the hypothesis that the true mean weight of the products is less than 5 pounds at a significance level of 0.01."
   ]
  },
  {
   "cell_type": "markdown",
   "id": "b68c1ef5-7226-4510-897b-838435356485",
   "metadata": {},
   "source": [
    "                        -------------------------------------------------------------------"
   ]
  },
  {
   "cell_type": "markdown",
   "id": "99cff066-6c10-4bc0-82d6-7d426a1d0d23",
   "metadata": {},
   "source": [
    "Q16. Two groups of students are given different study materials to prepare for a test. The first group (n1 =\n",
    "30) has a mean score of 80 with a standard deviation of 10, and the second group (n2 = 40) has a mean\n",
    "score of 75 with a standard deviation of 8. Test the hypothesis that the population means for the two\n",
    "groups are equal with a significance level of 0.01."
   ]
  },
  {
   "cell_type": "markdown",
   "id": "03e98d9e-a4f8-45ae-a085-fa627b0e870a",
   "metadata": {},
   "source": [
    "#Answer\n",
    "\n",
    "To test the hypothesis that the population means for the two groups are equal, we can perform an independent two-sample t-test. Here's how you can conduct the hypothesis test with a significance level of 0.01:\n",
    "\n",
    "Given:\n",
    "Group 1 sample size (n1) = 30\n",
    "Group 1 sample mean score (x̄1) = 80\n",
    "Group 1 sample standard deviation (s1) = 10\n",
    "\n",
    "Group 2 sample size (n2) = 40\n",
    "Group 2 sample mean score (x̄2) = 75\n",
    "Group 2 sample standard deviation (s2) = 8\n",
    "\n",
    "Significance level (α) = 0.01\n",
    "\n",
    "1. Set up the null and alternative hypotheses:\n",
    "Null hypothesis (H0): The population means for the two groups are equal.\n",
    "Alternative hypothesis (H1 or Ha): The population means for the two groups are not equal.\n",
    "\n",
    "H0: μ1 = μ2 (The population means are equal)\n",
    "Ha: μ1 ≠ μ2 (The population means are not equal)\n",
    "\n",
    "2. Calculate the test statistic:\n",
    "The test statistic for an independent two-sample t-test is calculated using the formula:\n",
    "\n",
    "t = (x̄1 - x̄2) / √[(s1^2 / n1) + (s2^2 / n2)]\n",
    "\n",
    "Substituting the given values:\n",
    "t = (80 - 75) / √[(10^2 / 30) + (8^2 / 40)] ≈ 1.91\n",
    "\n",
    "3. Determine the critical value:\n",
    "Since we're conducting a two-tailed test, we need to find the critical values corresponding to the significance level (α) and degrees of freedom (df). The degrees of freedom for this test is given by:\n",
    "\n",
    "df = [(s1^2 / n1 + s2^2 / n2)^2] / [((s1^2 / n1)^2 / (n1 - 1)) + ((s2^2 / n2)^2 / (n2 - 1))]\n",
    "\n",
    "Calculating df:\n",
    "df = [(10^2 / 30 + 8^2 / 40)^2] / [((10^2 / 30)^2 / 29) + ((8^2 / 40)^2 / 39)] ≈ 67.76 (rounded to 68)\n",
    "\n",
    "Looking up the critical values from the t-distribution table or using a statistical calculator, for a significance level of 0.01 and 68 degrees of freedom, the critical values are approximately -2.657 and 2.657.\n",
    "\n",
    "4. Compare the test statistic with the critical values and make a decision:\n",
    "If the test statistic falls outside the rejection region (t < critical value1 or t > critical value2), we reject the null hypothesis. Otherwise, we fail to reject the null hypothesis.\n",
    "\n",
    "In this case, since -2.657 < 1.91 < 2.657, the test statistic does not fall outside the rejection region.\n",
    "\n",
    "5. Calculate the p-value:\n",
    "Alternatively, you can calculate the p-value associated with the test statistic to assess the strength of evidence against the null hypothesis. The p-value is the probability of observing a test statistic as extreme as the one obtained, assuming the null hypothesis is true.\n",
    "\n",
    "Using a statistical calculator or software, the p-value corresponding to t = 1.91 and 68 degrees of freedom is approximately 0.0613 (rounded to four decimal places).\n",
    "\n",
    "6. Make a conclusion:\n",
    "Since the test statistic does not fall outside the rejection region and the p-value (0.0613) is greater than the significance level (0.01), we fail to reject the null hypothesis. There\n",
    "\n",
    "is not enough evidence to conclude that the population means for the two groups are different.\n",
    "\n",
    "Therefore, based on the given sample data, we do not have sufficient statistical evidence to support the hypothesis that the population means for the two groups are different at a significance level of 0.01."
   ]
  },
  {
   "cell_type": "markdown",
   "id": "84f56cbe-8177-4e0d-8944-aa8313bc83c0",
   "metadata": {},
   "source": [
    "                        -------------------------------------------------------------------"
   ]
  },
  {
   "cell_type": "markdown",
   "id": "879dcd6b-7716-4d29-a4fb-0772bc29f5d6",
   "metadata": {},
   "source": [
    "Q17. A marketing company wants to estimate the average number of ads watched by viewers during a TV\n",
    "program. They take a random sample of 50 viewers and find that the sample mean is 4 with a standard\n",
    "deviation of 1.5. Estimate the population mean with a 99% confidence interval."
   ]
  },
  {
   "cell_type": "markdown",
   "id": "a32f6a76-81c5-4a43-a647-1a096958683a",
   "metadata": {},
   "source": [
    "#Answer\n",
    "\n",
    "To estimate the population mean with a 99% confidence interval, we can use the sample mean and standard deviation along with the appropriate critical value from the t-distribution. Here's how you can calculate it:\n",
    "\n",
    "Given:\n",
    "Sample size (n) = 50\n",
    "Sample mean (x̄) = 4\n",
    "Sample standard deviation (s) = 1.5\n",
    "\n",
    "Since the sample size is relatively small (less than 30), we'll use the t-distribution instead of the z-distribution.\n",
    "\n",
    "1. Find the critical value:\n",
    "To determine the critical value, we need to consider the desired confidence level. For a 99% confidence interval, the significance level (α) is 0.01. Since we're working with a two-tailed test, we divide α by 2 to get 0.005.\n",
    "\n",
    "With 49 degrees of freedom (n - 1 = 50 - 1 = 49), we can find the critical value by referring to the t-distribution table or using a statistical calculator. For a 99% confidence level and 49 degrees of freedom, the critical value is approximately 2.682.\n",
    "\n",
    "2. Calculate the standard error:\n",
    "The standard error (SE) represents the standard deviation of the sampling distribution of the sample mean. It is calculated by dividing the sample standard deviation by the square root of the sample size (n):\n",
    "\n",
    "SE = s / √n = 1.5 / √50 ≈ 0.2121\n",
    "\n",
    "3. Calculate the margin of error:\n",
    "The margin of error (ME) is calculated by multiplying the critical value by the standard error:\n",
    "\n",
    "ME = critical value * SE = 2.682 * 0.2121 ≈ 0.5690\n",
    "\n",
    "4. Calculate the confidence interval:\n",
    "The confidence interval (CI) is calculated by subtracting and adding the margin of error to the sample mean:\n",
    "\n",
    "CI = (x̄ - ME, x̄ + ME) = (4 - 0.5690, 4 + 0.5690) = (3.4310, 4.5690)\n",
    "\n",
    "The estimated population mean with a 99% confidence interval is approximately 3.4310 to 4.5690.\n",
    "\n",
    "Therefore, we can say with 99% confidence that the true average number of ads watched by viewers during a TV program falls within this range based on the given sample."
   ]
  },
  {
   "cell_type": "markdown",
   "id": "851c5322-2783-45bf-862e-6099ec78d624",
   "metadata": {},
   "source": [
    "                        -------------------------------------------------------------------"
   ]
  }
 ],
 "metadata": {
  "kernelspec": {
   "display_name": "Python 3 (ipykernel)",
   "language": "python",
   "name": "python3"
  },
  "language_info": {
   "codemirror_mode": {
    "name": "ipython",
    "version": 3
   },
   "file_extension": ".py",
   "mimetype": "text/x-python",
   "name": "python",
   "nbconvert_exporter": "python",
   "pygments_lexer": "ipython3",
   "version": "3.10.8"
  }
 },
 "nbformat": 4,
 "nbformat_minor": 5
}
